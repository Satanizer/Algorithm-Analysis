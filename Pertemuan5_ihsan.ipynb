{
 "cells": [
  {
   "cell_type": "code",
   "execution_count": 36,
   "metadata": {},
   "outputs": [],
   "source": [
    "def hitungInversi(arr):\n",
    "    result=0\n",
    "    for i in range(len(arr)):\n",
    "        for j in range(i + 1,len(arr)):\n",
    "            if arr[i]>arr[j]:\n",
    "                result+=1\n",
    "    return result"
   ]
  },
  {
   "cell_type": "code",
   "execution_count": 37,
   "metadata": {},
   "outputs": [
    {
     "name": "stdout",
     "output_type": "stream",
     "text": [
      "6\n"
     ]
    }
   ],
   "source": [
    "arr=[21, 70, 36, 14, 25]\n",
    "result=hitungInversi(arr)\n",
    "print(result)"
   ]
  },
  {
   "cell_type": "code",
   "execution_count": 119,
   "metadata": {},
   "outputs": [],
   "source": [
    "def countInversion(arr):\n",
    "    icount=0\n",
    "    if len(arr)<=1:\n",
    "        return icount\n",
    "    \n",
    "    mid=len(arr)//2\n",
    "    left=arr[:mid]\n",
    "    right=arr[mid:]\n",
    "    icount+=countInversion(left)\n",
    "    icount+=countInversion(right)\n",
    "    i=j=k=0\n",
    "\n",
    "    while i<len(left) and j<len(right):\n",
    "        if left[i]<right[j]:\n",
    "            arr[k]=left[i]\n",
    "            i+=1\n",
    "        \n",
    "        else:\n",
    "            arr[k]=right[j]\n",
    "            j+=1\n",
    "            icount+=(mid-i)\n",
    "        k+=1\n",
    "    \n",
    "    while i<len(left):\n",
    "        arr[k]=left[i]\n",
    "        i+=1\n",
    "        k+=1\n",
    "    \n",
    "    while j<len(right):\n",
    "        arr[k]=right[j]\n",
    "        j+=1\n",
    "        k+=1\n",
    "    \n",
    "    return icount"
   ]
  },
  {
   "cell_type": "code",
   "execution_count": 123,
   "metadata": {},
   "outputs": [
    {
     "name": "stdout",
     "output_type": "stream",
     "text": [
      "5\n"
     ]
    }
   ],
   "source": [
    "arr=[1, 20, 6, 4, 5]\n",
    "result = countInversion(arr)\n",
    "print(result)"
   ]
  },
  {
   "cell_type": "code",
   "execution_count": 124,
   "metadata": {},
   "outputs": [],
   "source": [
    "def maxSubSum(arr):\n",
    "    max_so_far=0\n",
    "    max_ending_here=0\n",
    "    for i in range(len(arr)):\n",
    "        max_ending_here+=arr[i]\n",
    "        if max_ending_here>max_so_far:\n",
    "            max_so_far=max_ending_here\n",
    "        if max_ending_here<0:\n",
    "            max_ending_here=0\n",
    "    return max_so_far"
   ]
  },
  {
   "cell_type": "code",
   "execution_count": 125,
   "metadata": {},
   "outputs": [
    {
     "name": "stdout",
     "output_type": "stream",
     "text": [
      "7\n"
     ]
    }
   ],
   "source": [
    "arr=[-2, -5, 6, -2, -3, 1, 5, -6]\n",
    "result=maxSubSum(arr)\n",
    "print(result)"
   ]
  },
  {
   "cell_type": "code",
   "execution_count": 126,
   "metadata": {},
   "outputs": [],
   "source": [
    "from pickletools import read_unicodestring4\n",
    "\n",
    "\n",
    "def maxCrossingSum(arr,low,mid,high):\n",
    "    result=0; leftSum=float('-infinity')\n",
    "    for i in range(mid,low-1,-1):\n",
    "        result+=arr[i]\n",
    "        if result>leftSum:\n",
    "            leftSum=result\n",
    "    result=0; rightSum=float('-infinity')\n",
    "    for i in range(mid+1, high+1):\n",
    "        result+=arr[i]\n",
    "        if result>rightSum:\n",
    "            rightSum=result\n",
    "    return leftSum+rightSum\n",
    "\n",
    "def maxSum(arr,low,high):\n",
    "    if low==high:\n",
    "        return arr[low]\n",
    "    mid=(low+high)//2\n",
    "    return max(maxSum(arr,low,mid),maxSum(arr,mid+1,high),maxCrossingSum(arr,low,mid,high))"
   ]
  },
  {
   "cell_type": "code",
   "execution_count": 127,
   "metadata": {},
   "outputs": [
    {
     "name": "stdout",
     "output_type": "stream",
     "text": [
      "7\n"
     ]
    }
   ],
   "source": [
    "arr=[-2,-5,6,-2,-3,1,5,-6]\n",
    "result=maxSum(arr,0,len(arr)-1)\n",
    "print(result)"
   ]
  },
  {
   "cell_type": "code",
   "execution_count": 155,
   "metadata": {},
   "outputs": [],
   "source": [
    "def commonPrefix(str1,str2):\n",
    "    n1=len(str1);n2=len(str2)\n",
    "    i,j=0,0\n",
    "    s=\"\"\n",
    "    while i<n1 and j<n2:\n",
    "        if str1[i]==str2[j]:\n",
    "            s+=str1[i]\n",
    "            i+=1\n",
    "            j+=1\n",
    "        else:\n",
    "            break\n",
    "    return s"
   ]
  },
  {
   "cell_type": "code",
   "execution_count": 156,
   "metadata": {},
   "outputs": [],
   "source": [
    "def longestCommonPrefix(arr,low,high):\n",
    "    if low==high:\n",
    "        return arr[low]\n",
    "    mid=(low+high)//2\n",
    "    result1=longestCommonPrefix(arr,low,mid)\n",
    "    result2=longestCommonPrefix(arr,mid+1,high)\n",
    "    result=commonPrefix(result1,result2)\n",
    "    return result"
   ]
  },
  {
   "cell_type": "code",
   "execution_count": 159,
   "metadata": {},
   "outputs": [],
   "source": [
    "arr=['soeharto', 'soekarno', 'soerat', 'soerakarta']"
   ]
  },
  {
   "cell_type": "code",
   "execution_count": 161,
   "metadata": {},
   "outputs": [
    {
     "name": "stdout",
     "output_type": "stream",
     "text": [
      "soe\n"
     ]
    }
   ],
   "source": [
    "result=longestCommonPrefix(arr,0,len(arr)-1)\n",
    "print(result)"
   ]
  },
  {
   "cell_type": "code",
   "execution_count": 162,
   "metadata": {},
   "outputs": [],
   "source": [
    "from unittest.util import _count_diff_hashable\n",
    "\n",
    "\n",
    "def medianArray(arr1, arr2, n):\n",
    "    m1=-1\n",
    "    m2=-1\n",
    "    count=0\n",
    "    i=j=0\n",
    "    while count<n+1:\n",
    "        count+=1\n",
    "        if i==n:\n",
    "            m1=m2\n",
    "            m2=arr2[0]\n",
    "            break\n",
    "        if j==n:\n",
    "            m1=m2\n",
    "            m2=arr1[0]\n",
    "            break\n",
    "        if arr1[i]<arr2[j]:\n",
    "            m1=m2\n",
    "            m2=arr1[i]\n",
    "            i+=1\n",
    "        else:\n",
    "            m1=m2\n",
    "            m2=arr2[j]\n",
    "            j+=1\n",
    "    return (m1+m2)//2"
   ]
  },
  {
   "cell_type": "code",
   "execution_count": 163,
   "metadata": {},
   "outputs": [
    {
     "name": "stdout",
     "output_type": "stream",
     "text": [
      "16\n"
     ]
    }
   ],
   "source": [
    "arr1=[1,12,15,26,38]\n",
    "arr2=[2,13,17,30,45]\n",
    "print(medianArray(arr1,arr2,len(arr1)))"
   ]
  },
  {
   "cell_type": "code",
   "execution_count": 168,
   "metadata": {},
   "outputs": [],
   "source": [
    "def floorSorted(arr, low, high,x):\n",
    "    #print(low,high)\n",
    "    if low>high:\n",
    "        return -1\n",
    "    \n",
    "    if arr[low]>x:\n",
    "        #print (inside)\n",
    "        return -1\n",
    "    \n",
    "    if arr[high]<= x:\n",
    "        return arr[high]\n",
    "\n",
    "    mid = (low+high)//2\n",
    "\n",
    "    if arr[mid] == x:\n",
    "        return arr[mid]\n",
    "    if mid>0 and x>= arr[mid-1] and arr[mid]>x:\n",
    "        return arr[mid-1]\n",
    "    if mid<high and x<arr[mid+1] and x>=arr[mid]:\n",
    "        return arr[mid]\n",
    "    \n",
    "    if x>arr[mid]:\n",
    "        return floorSorted(arr,mid+1,high,x)\n",
    "    else:\n",
    "        return floorSorted(arr,low,mid-1,x)\n"
   ]
  },
  {
   "cell_type": "code",
   "execution_count": 172,
   "metadata": {},
   "outputs": [],
   "source": [
    "arr = [1,2,8,10,12,14,19]"
   ]
  },
  {
   "cell_type": "code",
   "execution_count": 174,
   "metadata": {},
   "outputs": [],
   "source": [
    "x=5"
   ]
  },
  {
   "cell_type": "code",
   "execution_count": 176,
   "metadata": {},
   "outputs": [
    {
     "name": "stdout",
     "output_type": "stream",
     "text": [
      "2\n"
     ]
    }
   ],
   "source": [
    "print(floorSorted(arr,0,len(arr)-1,x))"
   ]
  },
  {
   "cell_type": "code",
   "execution_count": 178,
   "metadata": {},
   "outputs": [],
   "source": [
    "def closest_number(arr, low, high, x):\n",
    "    if low > high:\n",
    "        return -1\n",
    "    if arr[high] <= x:\n",
    "        return arr[high]\n",
    "    if arr[low] >= x:\n",
    "        return arr[low]\n",
    "    \n",
    "    mid = (low + high) // 2\n",
    "\n",
    "    if arr[mid] == x:\n",
    "        return arr[mid]\n",
    "\n",
    "    abs_mid = abs(arr[mid] - x)\n",
    "    if mid > 0:\n",
    "        abs_left = abs(arr[mid - 1] - x)\n",
    "        if abs_left < abs_mid:\n",
    "            return closest_number(arr, low, mid - 1, x)\n",
    "    if mid < high:\n",
    "        abs_left = abs(arr[mid + 1] - x)\n",
    "        if abs_right < abs_mid:\n",
    "            return closest_number(arr, mid + 1, high, x)\n",
    "\n",
    "    return arr[mid]"
   ]
  },
  {
   "cell_type": "code",
   "execution_count": 179,
   "metadata": {},
   "outputs": [
    {
     "name": "stdout",
     "output_type": "stream",
     "text": [
      "9\n"
     ]
    }
   ],
   "source": [
    "arr = [2, 5, 6, 7, 8, 8, 9]\n",
    "x = 9\n",
    "print(closest_number(arr, 0, len(arr) - 1, x))"
   ]
  },
  {
   "cell_type": "code",
   "execution_count": 180,
   "metadata": {},
   "outputs": [],
   "source": [
    "def fixed_point(arr, low, high):\n",
    "    if low > high:\n",
    "        return -1\n",
    "    if arr[high] == high:\n",
    "        return arr[high]\n",
    "    if arr[low] == low:\n",
    "        return arr[low]\n",
    "    \n",
    "    mid = (low + high) // 2\n",
    "    if arr[mid] == mid:\n",
    "        return arr[mid]\n",
    "    if mid > arr[mid]:\n",
    "        return fixed_point(arr, mid + 1, high)\n",
    "    else:\n",
    "        return fixed_point(arr, low, mid - 1)"
   ]
  },
  {
   "cell_type": "code",
   "execution_count": 181,
   "metadata": {},
   "outputs": [
    {
     "name": "stdout",
     "output_type": "stream",
     "text": [
      "1\n"
     ]
    }
   ],
   "source": [
    "arr = [9, 1, 4, 5, 2]\n",
    "print(fixed_point(arr, 0, len(arr) - 1))"
   ]
  }
 ],
 "metadata": {
  "kernelspec": {
   "display_name": "Python 3.10.7 64-bit",
   "language": "python",
   "name": "python3"
  },
  "language_info": {
   "codemirror_mode": {
    "name": "ipython",
    "version": 3
   },
   "file_extension": ".py",
   "mimetype": "text/x-python",
   "name": "python",
   "nbconvert_exporter": "python",
   "pygments_lexer": "ipython3",
   "version": "3.10.7"
  },
  "orig_nbformat": 4,
  "vscode": {
   "interpreter": {
    "hash": "90a16ab0e847dc995a7d5921479f9b649f6b79cba0198119756b7f11ddea4121"
   }
  }
 },
 "nbformat": 4,
 "nbformat_minor": 2
}
