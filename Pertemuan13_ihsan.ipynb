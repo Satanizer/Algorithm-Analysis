{
  "nbformat": 4,
  "nbformat_minor": 0,
  "metadata": {
    "colab": {
      "provenance": []
    },
    "kernelspec": {
      "name": "python3",
      "display_name": "Python 3"
    },
    "language_info": {
      "name": "python"
    }
  },
  "cells": [
    {
      "cell_type": "code",
      "execution_count": 26,
      "metadata": {
        "id": "oB5csX29_jAk"
      },
      "outputs": [],
      "source": [
        "def bfs(graph, start):\n",
        "  visited = []\n",
        "  queue = [start]\n",
        "\n",
        "  while queue:\n",
        "    node = queue.pop(0)\n",
        "    if node not in visited:\n",
        "      visited.append(node)\n",
        "      neighbours = graph[node]\n",
        "      for neighbour in neighbours:\n",
        "        queue.append(neighbour)\n",
        "  return visited"
      ]
    },
    {
      "cell_type": "code",
      "source": [
        "graph={'Amin' : {'Wasim', 'Nick', 'Mike'},\n",
        "       'Wasim' : {'Imran', 'Amin'},\n",
        "       'Imran' : {'Wasim', 'Faras'},\n",
        "       'Faras' : {'Imran'},\n",
        "       'Mike' : {'Amin'},\n",
        "       'Nick' : {'Amin'}}"
      ],
      "metadata": {
        "id": "V8xdAOTmAJID"
      },
      "execution_count": 27,
      "outputs": []
    },
    {
      "cell_type": "code",
      "source": [
        "bfs(graph,'Amin')"
      ],
      "metadata": {
        "colab": {
          "base_uri": "https://localhost:8080/"
        },
        "id": "kGcaetBxBoOx",
        "outputId": "e2224624-1a4f-47df-a1d2-4b1ddd3acdc9"
      },
      "execution_count": 28,
      "outputs": [
        {
          "output_type": "execute_result",
          "data": {
            "text/plain": [
              "['Amin', 'Wasim', 'Mike', 'Nick', 'Imran', 'Faras']"
            ]
          },
          "metadata": {},
          "execution_count": 28
        }
      ]
    },
    {
      "cell_type": "code",
      "source": [
        "bfs(graph, 'Wasim')"
      ],
      "metadata": {
        "colab": {
          "base_uri": "https://localhost:8080/"
        },
        "id": "dUtExrEwDFhG",
        "outputId": "06c6f2ff-a03b-4c47-a554-51dd66c2648a"
      },
      "execution_count": 29,
      "outputs": [
        {
          "output_type": "execute_result",
          "data": {
            "text/plain": [
              "['Wasim', 'Imran', 'Amin', 'Faras', 'Mike', 'Nick']"
            ]
          },
          "metadata": {},
          "execution_count": 29
        }
      ]
    },
    {
      "cell_type": "code",
      "source": [
        "bfs(graph, 'Faras')"
      ],
      "metadata": {
        "colab": {
          "base_uri": "https://localhost:8080/"
        },
        "id": "t5gg0cIBFOfK",
        "outputId": "d9c555d9-2d28-4950-efcb-6ad68b61311b"
      },
      "execution_count": 30,
      "outputs": [
        {
          "output_type": "execute_result",
          "data": {
            "text/plain": [
              "['Faras', 'Imran', 'Wasim', 'Amin', 'Mike', 'Nick']"
            ]
          },
          "metadata": {},
          "execution_count": 30
        }
      ]
    },
    {
      "cell_type": "code",
      "source": [
        "def bfs(graph, start):\n",
        "  visited = []\n",
        "  queue = [start]\n",
        "\n",
        "  while queue:\n",
        "    node = queue.pop(0)\n",
        "    if node not in visited:\n",
        "      visited.append(node)\n",
        "      neighbours = graph[node]\n",
        "      for neighbour in neighbours:\n",
        "        queue.append(neighbour)\n",
        "  return visited"
      ],
      "metadata": {
        "id": "AsJVazvBQK7m"
      },
      "execution_count": 71,
      "outputs": []
    },
    {
      "cell_type": "code",
      "source": [
        "graph={'Rektor' : {'Warek1', 'Warek2'},\n",
        "       'Warek1' : {'Rektor'},\n",
        "       'Warek2' : {'Rektor','Kaprodi1', 'Kaprodi2','Kaprodi3'},\n",
        "       'Kaprodi1' : {'Warek2','Dosen A','Dosen B','Dosen C'},\n",
        "       'Dosen A' : {'Kaprodi1'},\n",
        "       'Dosen B' : {'Kaprodi1'},\n",
        "       'Dosen C' : {'Kaprodi1'},\n",
        "       'Kaprodi2' : {'Warek2','Dosen D','Dosen E'},\n",
        "       'Dosen D' : {'Kaprodi2'},\n",
        "       'Dosen E' : {'Kaprodi2'},\n",
        "       'Kaprodi3' : {'Warek2','Dosen F','Dosen G'},\n",
        "       'Dosen F': {'Kaprodi3'},\n",
        "       'Dosen G' : {'Kaprodi3'}}"
      ],
      "metadata": {
        "id": "gLZr7eOxOrDd"
      },
      "execution_count": 72,
      "outputs": []
    },
    {
      "cell_type": "code",
      "source": [
        "bfs(graph,'Kaprodi2')"
      ],
      "metadata": {
        "colab": {
          "base_uri": "https://localhost:8080/"
        },
        "id": "icZ1CEsrPG2g",
        "outputId": "53fa6d77-917d-46a4-87ed-35dceefb3d5b"
      },
      "execution_count": 73,
      "outputs": [
        {
          "output_type": "execute_result",
          "data": {
            "text/plain": [
              "['Kaprodi2',\n",
              " 'Dosen D',\n",
              " 'Warek2',\n",
              " 'Dosen E',\n",
              " 'Kaprodi1',\n",
              " 'Rektor',\n",
              " 'Kaprodi3',\n",
              " 'Dosen C',\n",
              " 'Dosen B',\n",
              " 'Dosen A',\n",
              " 'Warek1',\n",
              " 'Dosen F',\n",
              " 'Dosen G']"
            ]
          },
          "metadata": {},
          "execution_count": 73
        }
      ]
    },
    {
      "cell_type": "code",
      "source": [
        "def dfs(graph, start, visited=None):\n",
        "  if visited is None:\n",
        "    visited = set()\n",
        "  visited.add(start)\n",
        "  print(start)\n",
        "  for next in graph[start] - visited:\n",
        "    dfs(graph, next, visited)\n",
        "  return visited"
      ],
      "metadata": {
        "id": "vbyZvO9rP6LG"
      },
      "execution_count": 74,
      "outputs": []
    },
    {
      "cell_type": "code",
      "source": [
        "graph={'Amin' : {'Wasim', 'Nick', 'Mike'},\n",
        "       'Wasim' : {'Imran', 'Amin'},\n",
        "       'Imran' : {'Wasim', 'Faras'},\n",
        "       'Faras' : {'Imran'},\n",
        "       'Mike' : {'Amin'},\n",
        "       'Nick' : {'Amin'}}"
      ],
      "metadata": {
        "id": "JnASFFmsUejC"
      },
      "execution_count": 75,
      "outputs": []
    },
    {
      "cell_type": "code",
      "source": [
        "dfs(graph, 'Amin')"
      ],
      "metadata": {
        "colab": {
          "base_uri": "https://localhost:8080/"
        },
        "id": "xP9kKUOIUrw4",
        "outputId": "828e97f2-ba6f-4972-f5a8-a991f8f46dfa"
      },
      "execution_count": 76,
      "outputs": [
        {
          "output_type": "stream",
          "name": "stdout",
          "text": [
            "Amin\n",
            "Wasim\n",
            "Imran\n",
            "Faras\n",
            "Nick\n",
            "Mike\n"
          ]
        },
        {
          "output_type": "execute_result",
          "data": {
            "text/plain": [
              "{'Amin', 'Faras', 'Imran', 'Mike', 'Nick', 'Wasim'}"
            ]
          },
          "metadata": {},
          "execution_count": 76
        }
      ]
    },
    {
      "cell_type": "code",
      "source": [
        "dfs(graph, 'Wasim')"
      ],
      "metadata": {
        "colab": {
          "base_uri": "https://localhost:8080/"
        },
        "id": "ZbShgCtdUxLg",
        "outputId": "32d12c2c-c677-43fc-9866-39708ea5d2f9"
      },
      "execution_count": 77,
      "outputs": [
        {
          "output_type": "stream",
          "name": "stdout",
          "text": [
            "Wasim\n",
            "Imran\n",
            "Faras\n",
            "Amin\n",
            "Nick\n",
            "Mike\n"
          ]
        },
        {
          "output_type": "execute_result",
          "data": {
            "text/plain": [
              "{'Amin', 'Faras', 'Imran', 'Mike', 'Nick', 'Wasim'}"
            ]
          },
          "metadata": {},
          "execution_count": 77
        }
      ]
    },
    {
      "cell_type": "code",
      "source": [
        "dfs(graph, 'Faras')"
      ],
      "metadata": {
        "colab": {
          "base_uri": "https://localhost:8080/"
        },
        "id": "aKVSw3LnZOZf",
        "outputId": "08089b12-df04-47d5-9a8d-881db3897526"
      },
      "execution_count": 78,
      "outputs": [
        {
          "output_type": "stream",
          "name": "stdout",
          "text": [
            "Faras\n",
            "Imran\n",
            "Wasim\n",
            "Amin\n",
            "Nick\n",
            "Mike\n"
          ]
        },
        {
          "output_type": "execute_result",
          "data": {
            "text/plain": [
              "{'Amin', 'Faras', 'Imran', 'Mike', 'Nick', 'Wasim'}"
            ]
          },
          "metadata": {},
          "execution_count": 78
        }
      ]
    },
    {
      "cell_type": "code",
      "source": [
        "dfs(graph, 'Nick')"
      ],
      "metadata": {
        "colab": {
          "base_uri": "https://localhost:8080/"
        },
        "id": "GN_l8YEuZR9J",
        "outputId": "c3526f27-591d-4c81-c271-32d3b5aaca25"
      },
      "execution_count": 79,
      "outputs": [
        {
          "output_type": "stream",
          "name": "stdout",
          "text": [
            "Nick\n",
            "Amin\n",
            "Wasim\n",
            "Imran\n",
            "Faras\n",
            "Mike\n"
          ]
        },
        {
          "output_type": "execute_result",
          "data": {
            "text/plain": [
              "{'Amin', 'Faras', 'Imran', 'Mike', 'Nick', 'Wasim'}"
            ]
          },
          "metadata": {},
          "execution_count": 79
        }
      ]
    },
    {
      "cell_type": "code",
      "source": [
        "def dfs(graph, start, visited=None):\n",
        "  if visited is None:\n",
        "    visited = set()\n",
        "  visited.add(start)\n",
        "  print(start)\n",
        "  for next in graph[start] - visited:\n",
        "    dfs(graph, next, visited)\n",
        "  return visited"
      ],
      "metadata": {
        "id": "uRgjXq5rZW44"
      },
      "execution_count": 80,
      "outputs": []
    },
    {
      "cell_type": "code",
      "source": [
        "graph={'Rektor' : {'Warek1', 'Warek2'},\n",
        "       'Warek1' : {'Rektor'},\n",
        "       'Warek2' : {'Rektor','Kaprodi1', 'Kaprodi2','Kaprodi3'},\n",
        "       'Kaprodi1' : {'Warek2','Dosen A','Dosen B','Dosen C'},\n",
        "       'Dosen A' : {'Kaprodi1'},\n",
        "       'Dosen B' : {'Kaprodi1'},\n",
        "       'Dosen C' : {'Kaprodi1'},\n",
        "       'Kaprodi2' : {'Warek2','Dosen D','Dosen E'},\n",
        "       'Dosen D' : {'Kaprodi2'},\n",
        "       'Dosen E' : {'Kaprodi2'},\n",
        "       'Kaprodi3' : {'Warek2','Dosen F','Dosen G'},\n",
        "       'Dosen F': {'Kaprodi3'},\n",
        "       'Dosen G' : {'Kaprodi3'}}"
      ],
      "metadata": {
        "id": "jTjRkZ2sZdJm"
      },
      "execution_count": 81,
      "outputs": []
    },
    {
      "cell_type": "code",
      "source": [
        "dfs(graph, 'Kaprodi2')"
      ],
      "metadata": {
        "colab": {
          "base_uri": "https://localhost:8080/"
        },
        "id": "yEA55fL-Zf2u",
        "outputId": "7b57d3c8-1e39-40d4-bb8f-3506b2d08b28"
      },
      "execution_count": 82,
      "outputs": [
        {
          "output_type": "stream",
          "name": "stdout",
          "text": [
            "Kaprodi2\n",
            "Dosen D\n",
            "Warek2\n",
            "Rektor\n",
            "Warek1\n",
            "Kaprodi1\n",
            "Dosen C\n",
            "Dosen B\n",
            "Dosen A\n",
            "Kaprodi3\n",
            "Dosen F\n",
            "Dosen G\n",
            "Dosen E\n"
          ]
        },
        {
          "output_type": "execute_result",
          "data": {
            "text/plain": [
              "{'Dosen A',\n",
              " 'Dosen B',\n",
              " 'Dosen C',\n",
              " 'Dosen D',\n",
              " 'Dosen E',\n",
              " 'Dosen F',\n",
              " 'Dosen G',\n",
              " 'Kaprodi1',\n",
              " 'Kaprodi2',\n",
              " 'Kaprodi3',\n",
              " 'Rektor',\n",
              " 'Warek1',\n",
              " 'Warek2'}"
            ]
          },
          "metadata": {},
          "execution_count": 82
        }
      ]
    }
  ]
}