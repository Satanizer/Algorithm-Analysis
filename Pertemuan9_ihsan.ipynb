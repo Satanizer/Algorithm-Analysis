{
  "nbformat": 4,
  "nbformat_minor": 0,
  "metadata": {
    "colab": {
      "provenance": [],
      "collapsed_sections": []
    },
    "kernelspec": {
      "name": "python3",
      "display_name": "Python 3"
    },
    "language_info": {
      "name": "python"
    }
  },
  "cells": [
    {
      "cell_type": "code",
      "execution_count": null,
      "metadata": {
        "id": "hsaWx2tz1G8v"
      },
      "outputs": [],
      "source": [
        "import numpy as np\n",
        "import networkx as nx\n",
        "import matplotlib.pyplot as plt\n",
        "%matplotlib inline"
      ]
    },
    {
      "cell_type": "code",
      "source": [
        "myWeb = nx.DiGraph()\n",
        "myPages = range(1,5)"
      ],
      "metadata": {
        "id": "zM5pLdg04boO"
      },
      "execution_count": null,
      "outputs": []
    },
    {
      "cell_type": "code",
      "source": [
        "#connections = [(1,3),(2,1),(2,3),(3,1),(3,2),(3,4),(4,5),(5,1),(5,4)] #contoh\n",
        "#connections = [(1,2),(2,3),(3,4),(4,5),(5,6)]                         #soal1\n",
        "#connections = [(1,2),(2,3),(3,4),(4,5),(5,1)]                         #soal2\n",
        "#connections = [(1,2),(2,1),(2,3),(3,2),(3,4),(4,3)]                   #soal3\n",
        "#connections = [(1,2),(2,3),(3,4),(4,5),(5,6),(6,1)]                   #soal4\n",
        "#connections = [(1,2),(2,3),(3,4),(2,1),(3,2),(4,3),(4,1)]             #soal5\n",
        "#connections = [(1,2),(2,3),(3,4),(4,5),(5,1),(4,1)]                   #soal6\n",
        "#note : hashtag salah satu\n",
        "myWeb.add_nodes_from(myPages)\n",
        "myWeb.add_edges_from(connections)"
      ],
      "metadata": {
        "id": "-Mo04TKy4xxi"
      },
      "execution_count": null,
      "outputs": []
    },
    {
      "cell_type": "code",
      "source": [
        "pos = nx.shell_layout(myWeb)\n",
        "nx.draw(myWeb, pos, arrows = True, with_labels = True)\n",
        "plt.show()"
      ],
      "metadata": {
        "colab": {
          "base_uri": "https://localhost:8080/",
          "height": 319
        },
        "id": "OtjNlP2W5The",
        "outputId": "9e6a4ac9-8caa-4c89-db05-c695bbb4a357"
      },
      "execution_count": null,
      "outputs": [
        {
          "output_type": "display_data",
          "data": {
            "text/plain": [
              "<Figure size 432x288 with 1 Axes>"
            ],
            "image/png": "[encoded data removed]"
          },
          "metadata": {}
        }
      ]
    },
    {
      "cell_type": "code",
      "source": [
        "def createPageRank(aGraph):\n",
        "    nodes_set = len(aGraph)\n",
        "    M = nx.to_numpy_matrix(aGraph)\n",
        "    outwards = np.squeeze(np.asarray(np.sum(M, axis = 1)))\n",
        "    prob_outwards = np.array(\n",
        "        [1.0/count\n",
        "        if count > 0 else 0.0 for count in outwards])\n",
        "    G = np.asarray(np.multiply(M.T, prob_outwards))\n",
        "    p = np.ones(nodes_set)/float(nodes_set)/float(nodes_set)\n",
        "    if np.min(np.sum(G, axis = 0)) < 1.0:\n",
        "        print('WARN: G is substochastic')\n",
        "    \n",
        "    return G, p"
      ],
      "metadata": {
        "id": "0BaRoYZx6Hs5"
      },
      "execution_count": null,
      "outputs": []
    },
    {
      "cell_type": "code",
      "source": [
        "G, p = createPageRank(myWeb)\n",
        "print (G)"
      ],
      "metadata": {
        "colab": {
          "base_uri": "https://localhost:8080/"
        },
        "id": "B8F5fwV1BLxT",
        "outputId": "2c402a1f-264f-46e5-8818-9537ccc9bb9c"
      },
      "execution_count": null,
      "outputs": [
        {
          "output_type": "stream",
          "name": "stdout",
          "text": [
            "[[0.  0.  0.  0.5 1. ]\n",
            " [1.  0.  0.  0.  0. ]\n",
            " [0.  1.  0.  0.  0. ]\n",
            " [0.  0.  1.  0.  0. ]\n",
            " [0.  0.  0.  0.5 0. ]]\n"
          ]
        }
      ]
    },
    {
      "cell_type": "code",
      "source": [
        "myWeb = nx.complete_multipartite_graph(2,1,1,2)\n",
        "myPages = range(1,4)"
      ],
      "metadata": {
        "id": "zAWJlW0Qc270"
      },
      "execution_count": null,
      "outputs": []
    },
    {
      "cell_type": "code",
      "source": [
        "connections = [(1,2),(2,3),(3,4)]\n",
        "myWeb.add_nodes_from(myPages)\n",
        "myWeb.add_edges_from(connections)"
      ],
      "metadata": {
        "id": "eFqf5lwNbuA9"
      },
      "execution_count": null,
      "outputs": []
    },
    {
      "cell_type": "code",
      "source": [
        "pos = nx.multipartite_layout(myWeb)\n",
        "nx.draw(myWeb, pos, arrows = True, with_labels = True)\n",
        "plt.show()"
      ],
      "metadata": {
        "colab": {
          "base_uri": "https://localhost:8080/",
          "height": 319
        },
        "id": "7JPx13BBbuQo",
        "outputId": "33ade895-1d9e-46ac-fc70-5219f0795be0"
      },
      "execution_count": null,
      "outputs": [
        {
          "output_type": "display_data",
          "data": {
            "text/plain": [
              "<Figure size 432x288 with 1 Axes>"
            ],
            "image/png": "[encoded data removed]"
          },
          "metadata": {}
        }
      ]
    }
  ]
}