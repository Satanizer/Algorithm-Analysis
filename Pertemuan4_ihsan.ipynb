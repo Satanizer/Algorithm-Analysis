{
 "cells": [
  {
   "cell_type": "code",
   "execution_count": 3,
   "metadata": {},
   "outputs": [
    {
     "name": "stdout",
     "output_type": "stream",
     "text": [
      "3 1 2\n"
     ]
    }
   ],
   "source": [
    "#swap function\n",
    "var1 = 1\n",
    "var2 = 2\n",
    "var3 = 3\n",
    "var1, var2, var3 = var3, var1, var2\n",
    "\n",
    "print(var1,var2, var3)"
   ]
  },
  {
   "cell_type": "code",
   "execution_count": 67,
   "metadata": {},
   "outputs": [],
   "source": [
    "list = [8, 1, 3, 5, 2, 9, 6, 13, 10]"
   ]
  },
  {
   "cell_type": "code",
   "execution_count": 60,
   "metadata": {},
   "outputs": [
    {
     "name": "stdout",
     "output_type": "stream",
     "text": [
      "0 [8, 1, 3, 5, 2, 9, 6, 13, 10]\n",
      "1 [1, 8, 3, 5, 2, 9, 6, 13, 10]\n",
      "2 [1, 3, 8, 5, 2, 9, 6, 13, 10]\n",
      "3 [1, 3, 5, 8, 2, 9, 6, 13, 10]\n",
      "4 [1, 3, 5, 2, 8, 9, 6, 13, 10]\n",
      "5 [1, 3, 5, 2, 8, 9, 6, 13, 10]\n",
      "6 [1, 3, 5, 2, 8, 6, 9, 13, 10]\n",
      "7 [1, 3, 5, 2, 8, 6, 9, 13, 10]\n",
      "8 [1, 3, 5, 2, 8, 6, 9, 10, 13]\n"
     ]
    }
   ],
   "source": [
    "lastElementIndex = len(list)-1\n",
    "print(0, list)\n",
    "\n",
    "for idx in range(lastElementIndex):\n",
    "    if list[idx] > list[idx+1]:\n",
    "        list[idx], list[idx+1] = list[idx+1], list[idx]\n",
    "    print(idx+1, list)"
   ]
  },
  {
   "cell_type": "code",
   "execution_count": 68,
   "metadata": {},
   "outputs": [],
   "source": [
    "def bubbleSort(list):\n",
    "    lastElementIndex = len(list)-1\n",
    "    for passNo in range(lastElementIndex,0,-1):\n",
    "        for idx in range(passNo):\n",
    "            if list[idx] > list[idx + 1]:\n",
    "                list[idx], list[idx + 1] = list[idx + 1], list[idx]\n",
    "    return list"
   ]
  },
  {
   "cell_type": "code",
   "execution_count": 72,
   "metadata": {},
   "outputs": [
    {
     "data": {
      "text/plain": [
       "[11, 12, 13, 14, 15, 16, 17]"
      ]
     },
     "execution_count": 72,
     "metadata": {},
     "output_type": "execute_result"
    }
   ],
   "source": [
    "list = [15,11,12,14,13,17,16]\n",
    "bubbleSort(list)"
   ]
  },
  {
   "cell_type": "code",
   "execution_count": 73,
   "metadata": {},
   "outputs": [
    {
     "data": {
      "text/plain": [
       "[10, 20, 30, 40, 60, 90, 100]"
      ]
     },
     "execution_count": 73,
     "metadata": {},
     "output_type": "execute_result"
    }
   ],
   "source": [
    "list = [100, 20, 60, 90, 40, 30, 10]\n",
    "bubbleSort(list)"
   ]
  },
  {
   "cell_type": "code",
   "execution_count": 89,
   "metadata": {},
   "outputs": [],
   "source": [
    "def insertionSort(list):\n",
    "    for i in range(1, len(list)):\n",
    "        z = i-1\n",
    "        next = list[i]\n",
    "         \n",
    "        while (list[z] > next) and (z >= 0):\n",
    "            list[z + 1] = list[z]\n",
    "            z =z - 1\n",
    "        list[z + 1] = next\n",
    "    return list"
   ]
  },
  {
   "cell_type": "code",
   "execution_count": 87,
   "metadata": {},
   "outputs": [
    {
     "data": {
      "text/plain": [
       "[41, 42, 43, 44, 45, 46, 47]"
      ]
     },
     "execution_count": 87,
     "metadata": {},
     "output_type": "execute_result"
    }
   ],
   "source": [
    "list = [45,41,42,44,43,47,46]\n",
    "insertionSort(list)"
   ]
  },
  {
   "cell_type": "code",
   "execution_count": 91,
   "metadata": {},
   "outputs": [
    {
     "data": {
      "text/plain": [
       "[11, 12, 16, 25, 57, 75, 89]"
      ]
     },
     "execution_count": 91,
     "metadata": {},
     "output_type": "execute_result"
    }
   ],
   "source": [
    "list = [89,12,57,16,25,11,75]\n",
    "insertionSort(list)"
   ]
  },
  {
   "cell_type": "code",
   "execution_count": 92,
   "metadata": {},
   "outputs": [],
   "source": [
    "def selectionSort(list):\n",
    "    for fill_slot in range(len(list) - 1, 0, -1):\n",
    "        max_index = 0\n",
    "        for location in range(1, fill_slot + 1):\n",
    "            if list[location] > list[max_index]:\n",
    "                max_index = location\n",
    "        list[fill_slot], list[max_index] = list[max_index], list[fill_slot]\n",
    "    return list"
   ]
  },
  {
   "cell_type": "code",
   "execution_count": 93,
   "metadata": {},
   "outputs": [
    {
     "data": {
      "text/plain": [
       "[51, 52, 53, 54, 55, 56, 57]"
      ]
     },
     "execution_count": 93,
     "metadata": {},
     "output_type": "execute_result"
    }
   ],
   "source": [
    "list = [55,51,52,54,53,57,56]\n",
    "selectionSort(list)"
   ]
  },
  {
   "cell_type": "code",
   "execution_count": 95,
   "metadata": {},
   "outputs": [
    {
     "data": {
      "text/plain": [
       "[12, 16, 25, 57, 89]"
      ]
     },
     "execution_count": 95,
     "metadata": {},
     "output_type": "execute_result"
    }
   ],
   "source": [
    "list = [89,12,57,16,25]\n",
    "selectionSort(list)"
   ]
  },
  {
   "cell_type": "code",
   "execution_count": 96,
   "metadata": {},
   "outputs": [],
   "source": [
    "def linearSearch(list, item):\n",
    "    index = 0\n",
    "    found = False\n",
    "\n",
    "    while index < len(list) and found is False:\n",
    "        if list[index] == item:\n",
    "            found = True\n",
    "        else:\n",
    "            index = index + 1\n",
    "    return found    "
   ]
  },
  {
   "cell_type": "code",
   "execution_count": 98,
   "metadata": {},
   "outputs": [
    {
     "name": "stdout",
     "output_type": "stream",
     "text": [
      "True\n",
      "False\n"
     ]
    }
   ],
   "source": [
    "list = [12,33,11,99,22,55,90]\n",
    "print(linearSearch(list, 12))\n",
    "print(linearSearch(list, 26))"
   ]
  },
  {
   "cell_type": "code",
   "execution_count": 101,
   "metadata": {},
   "outputs": [
    {
     "data": {
      "text/plain": [
       "False"
      ]
     },
     "execution_count": 101,
     "metadata": {},
     "output_type": "execute_result"
    }
   ],
   "source": [
    "linearSearch('z',['y', 'u', 'i', 'w', 'o', 'a', 'q', 'u', 'j', \n",
    "'p'])"
   ]
  },
  {
   "cell_type": "code",
   "execution_count": 103,
   "metadata": {},
   "outputs": [],
   "source": [
    "def binarySearch(list, item):\n",
    "    first = 0\n",
    "    last = len(list)-1\n",
    "    found = False\n",
    "\n",
    "    while first <= last and not found:\n",
    "        midpoint = (first + last)//2\n",
    "        if list[midpoint] == item:\n",
    "            found = True\n",
    "        else:\n",
    "            if item < list[midpoint]:\n",
    "                last = midpoint-1\n",
    "            else:\n",
    "                first = midpoint+1\n",
    "    return found"
   ]
  },
  {
   "cell_type": "code",
   "execution_count": 104,
   "metadata": {},
   "outputs": [
    {
     "name": "stdout",
     "output_type": "stream",
     "text": [
      "True\n",
      "False\n"
     ]
    }
   ],
   "source": [
    "list = [12,33,11,99,22,55,90]\n",
    "sorted_list = bubbleSort(list)\n",
    "print(binarySearch(list,12))\n",
    "print(binarySearch(list,26))"
   ]
  },
  {
   "cell_type": "code",
   "execution_count": 105,
   "metadata": {},
   "outputs": [
    {
     "name": "stdout",
     "output_type": "stream",
     "text": [
      "False\n"
     ]
    }
   ],
   "source": [
    "list = ['y', 'u', 'i', 'w', 'o', 'a', 'q', 'u', 'j', \n",
    "'p']\n",
    "sorted_list = bubbleSort(list)\n",
    "print(binarySearch(list, 'z'))"
   ]
  },
  {
   "cell_type": "code",
   "execution_count": 106,
   "metadata": {},
   "outputs": [],
   "source": [
    "def intPolarsearch(list,z):\n",
    "    idx0 = 0\n",
    "    idxn = (len(list) - 1)\n",
    "    found = False\n",
    "    while idx0 <= idxn and z >= list[idx0] and z <= list[idxn]:\n",
    "\n",
    "        mid = idx0 +int(((float(idxn - idx0)/(list[idxn] - list[idx0])) * (z - list[idx0])))\n",
    "\n",
    "        if list[mid] == z:\n",
    "            found = True\n",
    "            return found\n",
    "\n",
    "        if list[mid] < z:\n",
    "            idx0 = mid + 1\n",
    "    return found"
   ]
  },
  {
   "cell_type": "code",
   "execution_count": 107,
   "metadata": {},
   "outputs": [
    {
     "name": "stdout",
     "output_type": "stream",
     "text": [
      "True\n",
      "False\n"
     ]
    }
   ],
   "source": [
    "list = [12,33,11,99,22,55,90]\n",
    "sorted_list = bubbleSort(list)\n",
    "print(intPolarsearch(list, 12))\n",
    "print(intPolarsearch(list, 26))"
   ]
  },
  {
   "cell_type": "code",
   "execution_count": 108,
   "metadata": {},
   "outputs": [
    {
     "name": "stdout",
     "output_type": "stream",
     "text": [
      "False\n"
     ]
    }
   ],
   "source": [
    "list = ['y', 'u', 'i', 'w', 'o', 'a', 'q', 'u', 'j', \n",
    "'p']\n",
    "sorted_list = bubbleSort(list)\n",
    "print(intPolarsearch(list, 'z'))"
   ]
  }
 ],
 "metadata": {
  "kernelspec": {
   "display_name": "Python 3.10.7 64-bit",
   "language": "python",
   "name": "python3"
  },
  "language_info": {
   "codemirror_mode": {
    "name": "ipython",
    "version": 3
   },
   "file_extension": ".py",
   "mimetype": "text/x-python",
   "name": "python",
   "nbconvert_exporter": "python",
   "pygments_lexer": "ipython3",
   "version": "3.10.7"
  },
  "orig_nbformat": 4,
  "vscode": {
   "interpreter": {
    "hash": "90a16ab0e847dc995a7d5921479f9b649f6b79cba0198119756b7f11ddea4121"
   }
  }
 },
 "nbformat": 4,
 "nbformat_minor": 2
}
