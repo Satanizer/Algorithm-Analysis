{
 "cells": [
  {
   "cell_type": "code",
   "execution_count": 49,
   "metadata": {},
   "outputs": [
    {
     "name": "stdout",
     "output_type": "stream",
     "text": [
      "{'a': ['b', 'c'], 'b': ['a', 'd'], 'c': ['a', 'd'], 'd': ['b', 'c', 'e'], 'e': ['d']}\n"
     ]
    }
   ],
   "source": [
    "grafik = {\"a\" : [\"b\",\"c\"],\n",
    "          \"b\" : [\"a\",\"d\"],\n",
    "          \"c\" : [\"a\",\"d\"],\n",
    "          \"d\" : [\"b\",\"c\",\"e\"],\n",
    "          \"e\" : [\"d\"]}\n",
    "\n",
    "print(grafik)"
   ]
  },
  {
   "cell_type": "code",
   "execution_count": 50,
   "metadata": {},
   "outputs": [
    {
     "name": "stdout",
     "output_type": "stream",
     "text": [
      "{'t': ['u', 'w'], 'u': ['t', 'v'], 'v': ['u', 'x'], 'w': ['t', 'x', 'z'], 'x': ['v', 'w', 's'], 'z': ['w'], 's': ['x']}\n"
     ]
    }
   ],
   "source": [
    "grafik2 = {\"t\" : [\"u\",\"w\"],\n",
    "          \"u\" : [\"t\",\"v\"],\n",
    "          \"v\" : [\"u\",\"x\"],\n",
    "          \"w\" : [\"t\",\"x\",\"z\"],\n",
    "          \"x\" : [\"v\",\"w\",\"s\"],\n",
    "          \"z\" : [\"w\"],\n",
    "          \"s\" : [\"x\"]}\n",
    "\n",
    "print(grafik2)"
   ]
  },
  {
   "cell_type": "code",
   "execution_count": 51,
   "metadata": {},
   "outputs": [
    {
     "name": "stdout",
     "output_type": "stream",
     "text": [
      "{'l': ['p', 'r'], 'm': ['n', 'o'], 'n': ['m', 'p'], 'o': ['m', 'p', 'r'], 'p': ['l', 'n', 'o'], 'r': ['l', 'o']}\n"
     ]
    }
   ],
   "source": [
    "grafik3 = {\"l\" : [\"p\",\"r\"],\n",
    "          \"m\" : [\"n\",\"o\"],\n",
    "          \"n\" : [\"m\",\"p\"],\n",
    "          \"o\" : [\"m\",\"p\",\"r\"],\n",
    "          \"p\" : [\"l\",\"n\",\"o\"],\n",
    "          \"r\" : [\"l\",\"o\"]}\n",
    "\n",
    "print(grafik3)"
   ]
  },
  {
   "cell_type": "code",
   "execution_count": 52,
   "metadata": {},
   "outputs": [
    {
     "name": "stdout",
     "output_type": "stream",
     "text": [
      "['a', 'b', 'c', 'd', 'e']\n"
     ]
    }
   ],
   "source": [
    "class graph:\n",
    "  def __init__(self,gdict=None):\n",
    "    if gdict is None:\n",
    "      gdict = []\n",
    "    self.gdict = gdict\n",
    "\n",
    "  def getVertices(self):\n",
    "    return list (self.gdict.keys())\n",
    "\n",
    "g = graph(grafik)\n",
    "print(g.getVertices())"
   ]
  },
  {
   "cell_type": "code",
   "execution_count": 53,
   "metadata": {},
   "outputs": [
    {
     "name": "stdout",
     "output_type": "stream",
     "text": [
      "['t', 'u', 'v', 'w', 'x', 'z', 's']\n"
     ]
    }
   ],
   "source": [
    "g = graph(grafik2)\n",
    "print(g.getVertices())"
   ]
  },
  {
   "cell_type": "code",
   "execution_count": 54,
   "metadata": {},
   "outputs": [
    {
     "name": "stdout",
     "output_type": "stream",
     "text": [
      "['l', 'm', 'n', 'o', 'p', 'r']\n"
     ]
    }
   ],
   "source": [
    "g = graph(grafik3)\n",
    "print(g.getVertices())"
   ]
  },
  {
   "cell_type": "code",
   "execution_count": 55,
   "metadata": {},
   "outputs": [
    {
     "name": "stdout",
     "output_type": "stream",
     "text": [
      "[{'b', 'a'}, {'c', 'a'}, {'b', 'd'}, {'d', 'c'}, {'e', 'd'}]\n"
     ]
    }
   ],
   "source": [
    "class graph:\n",
    "  def __init__(self,gdict=None):\n",
    "    if gdict is None:\n",
    "      gdict = {}\n",
    "    self.gdict = gdict\n",
    "\n",
    "  def edges(self):\n",
    "    return self.finedges()\n",
    "\n",
    "  def finedges(self):\n",
    "    edgename = []\n",
    "    for vrtx in self.gdict:\n",
    "      for nxtvrtx in self.gdict[vrtx]:\n",
    "        if {nxtvrtx, vrtx} not in edgename:\n",
    "          edgename.append({vrtx,nxtvrtx})\n",
    "    return edgename\n",
    "\n",
    "g = graph(grafik)\n",
    "print(g.edges())"
   ]
  },
  {
   "cell_type": "code",
   "execution_count": 56,
   "metadata": {},
   "outputs": [
    {
     "name": "stdout",
     "output_type": "stream",
     "text": [
      "[{'t', 'u'}, {'t', 'w'}, {'u', 'v'}, {'x', 'v'}, {'x', 'w'}, {'w', 'z'}, {'s', 'x'}]\n"
     ]
    }
   ],
   "source": [
    "g = graph(grafik2)\n",
    "print(g.edges())"
   ]
  },
  {
   "cell_type": "code",
   "execution_count": 57,
   "metadata": {},
   "outputs": [
    {
     "name": "stdout",
     "output_type": "stream",
     "text": [
      "[{'p', 'l'}, {'r', 'l'}, {'n', 'm'}, {'o', 'm'}, {'n', 'p'}, {'o', 'p'}, {'o', 'r'}]\n"
     ]
    }
   ],
   "source": [
    "g = graph(grafik3)\n",
    "print(g.edges())"
   ]
  },
  {
   "cell_type": "code",
   "execution_count": 58,
   "metadata": {},
   "outputs": [
    {
     "name": "stdout",
     "output_type": "stream",
     "text": [
      "['a', 'b', 'c', 'd', 'e', 'f']\n"
     ]
    }
   ],
   "source": [
    "class graph:\n",
    "    def __init__(self,gdict=None):\n",
    "        if gdict is None:\n",
    "            gdict = {}\n",
    "        self.gdict = gdict\n",
    "\n",
    "    def getVertices(self):\n",
    "        return list (self.gdict.keys())\n",
    "    \n",
    "    def addVertex(self, vrtx):\n",
    "        if vrtx not in self.gdict:\n",
    "            self.gdict[vrtx] = []\n",
    "\n",
    "g = graph(grafik)\n",
    "g.addVertex(\"f\")\n",
    "print(g.getVertices())"
   ]
  },
  {
   "cell_type": "code",
   "execution_count": 59,
   "metadata": {},
   "outputs": [
    {
     "name": "stdout",
     "output_type": "stream",
     "text": [
      "['t', 'u', 'v', 'w', 'x', 'z', 's', 'a']\n"
     ]
    }
   ],
   "source": [
    "g = graph(grafik2)\n",
    "g.addVertex(\"a\")\n",
    "print(g.getVertices())"
   ]
  },
  {
   "cell_type": "code",
   "execution_count": 60,
   "metadata": {},
   "outputs": [
    {
     "name": "stdout",
     "output_type": "stream",
     "text": [
      "['l', 'm', 'n', 'o', 'p', 'r', 'i']\n"
     ]
    }
   ],
   "source": [
    "g = graph(grafik3)\n",
    "g.addVertex(\"i\")\n",
    "print(g.getVertices())"
   ]
  },
  {
   "cell_type": "code",
   "execution_count": 62,
   "metadata": {},
   "outputs": [
    {
     "name": "stdout",
     "output_type": "stream",
     "text": [
      "[{'b', 'a'}, {'c', 'a'}, {'b', 'd'}, {'d', 'c'}, {'e', 'd'}, {'e', 'a'}, {'i', 'z'}, {'g', 'f'}]\n"
     ]
    }
   ],
   "source": [
    "class graph:\n",
    "  def __init__(self,gdict=None):\n",
    "    if gdict is None:\n",
    "      gdict = []\n",
    "    self.gdict = gdict\n",
    "\n",
    "  def edges(self):\n",
    "    return self.finedges()\n",
    "\n",
    "  def addEdge(self,edge):\n",
    "    edge = set(edge)\n",
    "    (vrtx1,vrtx2) = tuple(edge)\n",
    "    if vrtx1 in self.gdict:\n",
    "      self.gdict[vrtx1].append(vrtx2)\n",
    "    else:\n",
    "       self.gdict[vrtx1] = [vrtx2]\n",
    "\n",
    "  def finedges(self):\n",
    "    edgename = []\n",
    "    for vrtx in self.gdict:\n",
    "      for nxtvrtx in self.gdict[vrtx]:\n",
    "        if {nxtvrtx, vrtx} not in edgename:\n",
    "          edgename.append({vrtx,nxtvrtx})\n",
    "    return edgename\n",
    "\n",
    "g = graph(grafik)\n",
    "g.addEdge({\"i\",\"z\"})\n",
    "g.addEdge({\"f\",\"g\"})\n",
    "print(g.edges())"
   ]
  },
  {
   "cell_type": "code",
   "execution_count": 63,
   "metadata": {},
   "outputs": [
    {
     "name": "stdout",
     "output_type": "stream",
     "text": [
      "[{'t', 'u'}, {'t', 'w'}, {'u', 'v'}, {'x', 'v'}, {'x', 'w'}, {'w', 'z'}, {'s', 'x'}, {'i', 'z'}, {'g', 'f'}]\n"
     ]
    }
   ],
   "source": [
    "g = graph(grafik2)\n",
    "g.addEdge({\"i\",\"z\"})\n",
    "g.addEdge({\"f\",\"g\"})\n",
    "print(g.edges())"
   ]
  },
  {
   "cell_type": "code",
   "execution_count": 64,
   "metadata": {},
   "outputs": [
    {
     "name": "stdout",
     "output_type": "stream",
     "text": [
      "[{'p', 'l'}, {'r', 'l'}, {'n', 'm'}, {'o', 'm'}, {'n', 'p'}, {'o', 'p'}, {'o', 'r'}, {'i', 'z'}, {'g', 'f'}]\n"
     ]
    }
   ],
   "source": [
    "g = graph(grafik3)\n",
    "g.addEdge({\"i\",\"z\"})\n",
    "g.addEdge({\"f\",\"g\"})\n",
    "print(g.edges())"
   ]
  }
 ],
 "metadata": {
  "kernelspec": {
   "display_name": "Python 3.10.7 64-bit",
   "language": "python",
   "name": "python3"
  },
  "language_info": {
   "codemirror_mode": {
    "name": "ipython",
    "version": 3
   },
   "file_extension": ".py",
   "mimetype": "text/x-python",
   "name": "python",
   "nbconvert_exporter": "python",
   "pygments_lexer": "ipython3",
   "version": "3.10.7"
  },
  "orig_nbformat": 4,
  "vscode": {
   "interpreter": {
    "hash": "90a16ab0e847dc995a7d5921479f9b649f6b79cba0198119756b7f11ddea4121"
   }
  }
 },
 "nbformat": 4,
 "nbformat_minor": 2
}
