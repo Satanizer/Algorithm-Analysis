{
  "nbformat": 4,
  "nbformat_minor": 0,
  "metadata": {
    "colab": {
      "provenance": []
    },
    "kernelspec": {
      "name": "python3",
      "display_name": "Python 3"
    },
    "language_info": {
      "name": "python"
    }
  },
  "cells": [
    {
      "cell_type": "code",
      "execution_count": 1,
      "metadata": {
        "id": "oc7o2_VJ8H9X"
      },
      "outputs": [],
      "source": [
        "def Sequential_Search(dlist, item):\n",
        "\n",
        "    pos = 0\n",
        "    found = False\n",
        "\n",
        "    while pos < len(dlist) and not found:\n",
        "        if dlist[pos] == item:\n",
        "            found = True\n",
        "        else:\n",
        "            pos = pos + 1\n",
        "\n",
        "    return found, pos"
      ]
    },
    {
      "cell_type": "code",
      "source": [
        "print(Sequential_Search([11,23,58,31,56,77,43,12,65,19],31))"
      ],
      "metadata": {
        "colab": {
          "base_uri": "https://localhost:8080/"
        },
        "id": "m6vss3P-8YQx",
        "outputId": "50be0bfd-c341-456a-92ba-6e534997f7bb"
      },
      "execution_count": 2,
      "outputs": [
        {
          "output_type": "stream",
          "name": "stdout",
          "text": [
            "(True, 3)\n"
          ]
        }
      ]
    },
    {
      "cell_type": "code",
      "source": [
        "print(Sequential_Search(['A','B','C','D','E','F','G','H'],'G'))"
      ],
      "metadata": {
        "colab": {
          "base_uri": "https://localhost:8080/"
        },
        "id": "zmbA02pB8aiK",
        "outputId": "e660310c-71fa-4e8f-9525-f9797907814b"
      },
      "execution_count": 4,
      "outputs": [
        {
          "output_type": "stream",
          "name": "stdout",
          "text": [
            "(True, 6)\n"
          ]
        }
      ]
    },
    {
      "cell_type": "code",
      "source": [
        "bilangan = int(input('Masukkan bilangan: '))\n",
        "pangkat = int(input('Masukkan pangkat: '))\n",
        "\n",
        "def hitung_pangkat(bilangan, pangkat):\n",
        "    if pangkat > 1:\n",
        "        return bilangan * hitung_pangkat(bilangan, pangkat - 1)\n",
        "    elif pangkat == 0:\n",
        "        return bilangan / bilangan\n",
        "\n",
        "    return bilangan\n",
        "\n",
        "hasil = hitung_pangkat(bilangan, pangkat)\n",
        "print(f'Hasil = {hasil}')"
      ],
      "metadata": {
        "colab": {
          "base_uri": "https://localhost:8080/"
        },
        "id": "fA00Cj2w8cmt",
        "outputId": "863ecb47-94ad-48d2-dbc3-4e1a47a9b9d5"
      },
      "execution_count": 6,
      "outputs": [
        {
          "output_type": "stream",
          "name": "stdout",
          "text": [
            "Masukkan bilangan: 4\n",
            "Masukkan pangkat: 6\n",
            "Hasil = 4096\n"
          ]
        }
      ]
    },
    {
      "cell_type": "code",
      "source": [
        "n = int(input('Masukkan nilai n: '))\n",
        "\n",
        "def hitung_faktorial(n):\n",
        "    if n > 2:\n",
        "        return n * hitung_faktorial(n - 1)\n",
        "\n",
        "    return 2\n",
        "\n",
        "faktorial = hitung_faktorial(n)\n",
        "print(f'{n}! = {faktorial}')"
      ],
      "metadata": {
        "colab": {
          "base_uri": "https://localhost:8080/"
        },
        "id": "bMGxOoGZ8gKz",
        "outputId": "9c05986a-9146-46fd-fab6-40cec5b8e805"
      },
      "execution_count": 7,
      "outputs": [
        {
          "output_type": "stream",
          "name": "stdout",
          "text": [
            "Masukkan nilai n: 5\n",
            "5! = 120\n"
          ]
        }
      ]
    },
    {
      "cell_type": "code",
      "source": [
        "def string_match(string, substr):\n",
        "    for i in range(len(string) - len(substr) + 1):\n",
        "        index = i\n",
        "        for j in range(len(substr)):\n",
        "            if string[index] == substr[j]:\n",
        "                index += 1\n",
        "            else:\n",
        "                break\n",
        "            if index - i == len(substr):\n",
        "                return i\n",
        "    return -1\n",
        "\n",
        "print(string_match(\"adbcbdc\", \"bdc\"))"
      ],
      "metadata": {
        "colab": {
          "base_uri": "https://localhost:8080/"
        },
        "id": "uYRhP9oP8iz2",
        "outputId": "a8d39981-f28c-41d8-ceeb-43a8992b06c5"
      },
      "execution_count": 8,
      "outputs": [
        {
          "output_type": "stream",
          "name": "stdout",
          "text": [
            "4\n"
          ]
        }
      ]
    },
    {
      "cell_type": "code",
      "source": [
        "print(string_match(\"123456789\", \"56\"))"
      ],
      "metadata": {
        "colab": {
          "base_uri": "https://localhost:8080/"
        },
        "id": "-qQnkUmy8lB_",
        "outputId": "51257b91-7ee8-494c-ff8c-69066cbab9b7"
      },
      "execution_count": 20,
      "outputs": [
        {
          "output_type": "stream",
          "name": "stdout",
          "text": [
            "4\n"
          ]
        }
      ]
    },
    {
      "cell_type": "code",
      "source": [
        "import random\n",
        "from itertools import permutations\n",
        "\n",
        "alltours = permutations\n",
        "\n",
        "def distance_tours(aTour):\n",
        "    return sum(distance_points(aTour[i - 1], aTour[i])\n",
        "      for i in range(len(aTour)))\n",
        "\n",
        "aCity = complex\n",
        "\n",
        "def distance_points(first, second):\n",
        "    return abs(first - second)\n",
        "\n",
        "def generate_cities(number_of_cities):\n",
        "    seed = 111\n",
        "    width = 500\n",
        "    height = 300\n",
        "\n",
        "    random.seed((number_of_cities, seed))\n",
        "    return frozenset(aCity(random.randint(1, width), random.randint(1, height))\n",
        "        for c in range(number_of_cities))"
      ],
      "metadata": {
        "id": "iu5S5nz989jA"
      },
      "execution_count": 22,
      "outputs": []
    },
    {
      "cell_type": "code",
      "source": [
        "import matplotlib.pyplot as plt\n",
        "\n",
        "def visualize_tour(tour, style='bo-'):\n",
        "    if len(tour) > 1000:\n",
        "        plt.figure(figsize=(15, 30))\n",
        "        start = tour[0:1]\n",
        "        visualize_segment(tour + start, style)\n",
        "        visualize_segment(start, 'rD')\n",
        "def visualize_segment(segment, style='bo-'):\n",
        "    plt.plot([X(c) for c in segment], [Y(c) for c in segment], style, clip_on=False)\n",
        "    plt.axis('scaled')\n",
        "    plt.axis('off')\n",
        "\n",
        "def X(city): print('X axis'); return city.real\n",
        "\n",
        "def Y(city): print('Y axis'); return city.imag"
      ],
      "metadata": {
        "id": "0a19KZhA9Hns"
      },
      "execution_count": 23,
      "outputs": []
    },
    {
      "cell_type": "code",
      "source": [
        "from time import process_time\n",
        "from collections import Counter\n",
        "\n",
        "def tsp(algorithm, cities):\n",
        "    t0 = process_time()\n",
        "    tour = algorithm(cities)\n",
        "    t1 = process_time()\n",
        "\n",
        "    assert Counter(tour) == Counter(cities)\n",
        "\n",
        "    visualize_tour(tour)\n",
        "\n",
        "    print('{}:{} cities => tour length {:.0f}(in {:.3f} sec)'.format(name(algorithm), len(tour), distance_tours(tour), t1 - t0))\n",
        "\n",
        "def name(algorithm): return algorithm.__name__.replace('_tsp', '')"
      ],
      "metadata": {
        "id": "V979af5W9K3j"
      },
      "execution_count": 12,
      "outputs": []
    },
    {
      "cell_type": "code",
      "source": [
        "def brute_force(cities):\n",
        "    \"Generate all possible tours of the cities and choose the shortest tour\"\n",
        "    return shortest_tour(alltours(cities))\n",
        "    \n",
        "def shortest_tour(tours):\n",
        "    return min(tours, key=distance_tours)"
      ],
      "metadata": {
        "id": "y57kRa2Y9Ok9"
      },
      "execution_count": 24,
      "outputs": []
    },
    {
      "cell_type": "code",
      "source": [
        "tsp(brute_force, generate_cities(10))"
      ],
      "metadata": {
        "colab": {
          "base_uri": "https://localhost:8080/"
        },
        "id": "j4yv0xGm9RSa",
        "outputId": "28da3ad7-8ef0-4467-d8a8-da1a7d682223"
      },
      "execution_count": 25,
      "outputs": [
        {
          "output_type": "stream",
          "name": "stdout",
          "text": [
            "brute_force:10 cities => tour length 1218(in 13.819 sec)\n"
          ]
        }
      ]
    }
  ]
}