{
 "cells": [
  {
   "cell_type": "code",
   "execution_count": 13,
   "metadata": {},
   "outputs": [
    {
     "name": "stdout",
     "output_type": "stream",
     "text": [
      "Ihsan\n",
      "2021071005\n",
      "Informatika\n",
      "DAA\n",
      "14/09/22\n",
      "UPJ\n"
     ]
    }
   ],
   "source": [
    "profil = ['Ihsan','2021071005','Informatika','DAA','14/09/22','UPJ']\n",
    "for item in profil:\n",
    "    print(item)"
   ]
  },
  {
   "cell_type": "code",
   "execution_count": 14,
   "metadata": {},
   "outputs": [
    {
     "name": "stdout",
     "output_type": "stream",
     "text": [
      "2021071005\n"
     ]
    }
   ],
   "source": [
    "print(profil[1])"
   ]
  },
  {
   "cell_type": "code",
   "execution_count": 15,
   "metadata": {},
   "outputs": [
    {
     "name": "stdout",
     "output_type": "stream",
     "text": [
      "UPJ\n"
     ]
    }
   ],
   "source": [
    "print(profil[-1])"
   ]
  },
  {
   "cell_type": "code",
   "execution_count": 16,
   "metadata": {},
   "outputs": [
    {
     "name": "stdout",
     "output_type": "stream",
     "text": [
      "['2021071005', 'Informatika']\n"
     ]
    }
   ],
   "source": [
    "print(profil[1:3])"
   ]
  },
  {
   "cell_type": "code",
   "execution_count": 17,
   "metadata": {},
   "outputs": [
    {
     "name": "stdout",
     "output_type": "stream",
     "text": [
      "UPJ Ihsan\n",
      "UPJ 2021071005\n",
      "UPJ Informatika\n",
      "UPJ DAA\n",
      "UPJ 14/09/22\n",
      "UPJ UPJ\n"
     ]
    }
   ],
   "source": [
    "for item in profil:\n",
    "    print('UPJ ' + item)"
   ]
  },
  {
   "cell_type": "code",
   "execution_count": 18,
   "metadata": {},
   "outputs": [
    {
     "name": "stdout",
     "output_type": "stream",
     "text": [
      "Reaver\n",
      "RGX\n",
      "Glitchpop\n",
      "Origin\n"
     ]
    }
   ],
   "source": [
    "skin = ['Reaver','Glitchpop','RGX','Origin']\n",
    "print(skin[0])\n",
    "print(skin[2])\n",
    "print(skin[1])\n",
    "print(skin[3])"
   ]
  },
  {
   "cell_type": "code",
   "execution_count": 19,
   "metadata": {},
   "outputs": [
    {
     "name": "stdout",
     "output_type": "stream",
     "text": [
      "['Reaver', 'Glitchpop', 'RGX']\n"
     ]
    }
   ],
   "source": [
    "print(skin[0:3])"
   ]
  },
  {
   "cell_type": "code",
   "execution_count": 20,
   "metadata": {},
   "outputs": [
    {
     "name": "stdout",
     "output_type": "stream",
     "text": [
      "Reaver GG\n",
      "Glitchpop GG\n",
      "RGX GG\n",
      "Origin GG\n"
     ]
    }
   ],
   "source": [
    "for item in skin:\n",
    "    print(item + ' GG')"
   ]
  },
  {
   "cell_type": "code",
   "execution_count": 21,
   "metadata": {},
   "outputs": [
    {
     "name": "stdout",
     "output_type": "stream",
     "text": [
      "Glitchpop\n"
     ]
    }
   ],
   "source": [
    "tuple_skin = ('Reaver','Glitchpop','RGX','Origin')\n",
    "print(tuple_skin[1])"
   ]
  },
  {
   "cell_type": "code",
   "execution_count": 22,
   "metadata": {},
   "outputs": [
    {
     "name": "stdout",
     "output_type": "stream",
     "text": [
      "('universitas', 'pembangunan', 'jaya')\n"
     ]
    }
   ],
   "source": [
    "UPJ = ('universitas','pembangunan','jaya')\n",
    "print(UPJ)"
   ]
  },
  {
   "cell_type": "code",
   "execution_count": 23,
   "metadata": {},
   "outputs": [
    {
     "name": "stdout",
     "output_type": "stream",
     "text": [
      "((100,), (200, 400, 600), (300,), (400, 800))\n"
     ]
    }
   ],
   "source": [
    "angka = ((100,),(200,400,600),(300,),(400,800))\n",
    "print(angka)"
   ]
  },
  {
   "cell_type": "code",
   "execution_count": 24,
   "metadata": {},
   "outputs": [
    {
     "name": "stdout",
     "output_type": "stream",
     "text": [
      "{'Nama': 'Ihsan', 'NIM': '2021071005', 'Prodi': 'Informatika', 'Universitas': 'UPJ'}\n"
     ]
    }
   ],
   "source": [
    "profil_mahasiswa = {'Nama' : 'Ihsan','NIM' : '2021071005','Prodi' : 'Informatika','Universitas' : 'UPJ'}\n",
    "print(profil_mahasiswa)"
   ]
  },
  {
   "cell_type": "code",
   "execution_count": 25,
   "metadata": {},
   "outputs": [
    {
     "data": {
      "text/plain": [
       "'Ihsan'"
      ]
     },
     "execution_count": 25,
     "metadata": {},
     "output_type": "execute_result"
    }
   ],
   "source": [
    "profil_mahasiswa.get('Nama')"
   ]
  },
  {
   "cell_type": "code",
   "execution_count": 26,
   "metadata": {},
   "outputs": [
    {
     "name": "stdout",
     "output_type": "stream",
     "text": [
      "{'Nama': 'Ihsan', 'NIM': '2021071005', 'Prodi': 'Sistem Informasi', 'Universitas': 'UPJ'}\n"
     ]
    }
   ],
   "source": [
    "profil_mahasiswa['Prodi']='Sistem Informasi'\n",
    "print(profil_mahasiswa)"
   ]
  },
  {
   "cell_type": "code",
   "execution_count": 27,
   "metadata": {},
   "outputs": [
    {
     "name": "stdout",
     "output_type": "stream",
     "text": [
      "{'sistem informasi', 'informatika', 'DKV'}\n"
     ]
    }
   ],
   "source": [
    "prodi = {'informatika','sistem informasi','DKV'}\n",
    "print(prodi)"
   ]
  },
  {
   "cell_type": "code",
   "execution_count": 28,
   "metadata": {},
   "outputs": [
    {
     "name": "stdout",
     "output_type": "stream",
     "text": [
      "{'pudding', 'jelly', 'soes'}\n"
     ]
    }
   ],
   "source": [
    "dish = {'jelly','soes','pudding','jelly'}\n",
    "print(dish)"
   ]
  },
  {
   "cell_type": "code",
   "execution_count": 29,
   "metadata": {},
   "outputs": [
    {
     "name": "stdout",
     "output_type": "stream",
     "text": [
      "{'blood', 'firehydrants', 'dandelions', 'leaves', 'rose'}\n",
      "{'firehydrants', 'leaves'}\n"
     ]
    }
   ],
   "source": [
    "yellow = {'rose','blood','firehydrants','leaves'}\n",
    "red = {'dandelions','leaves','firehydrants'}\n",
    "print (yellow|red)\n",
    "print (yellow&red)"
   ]
  },
  {
   "cell_type": "code",
   "execution_count": 30,
   "metadata": {},
   "outputs": [],
   "source": [
    "import pandas as pd\n",
    "import numpy as np"
   ]
  },
  {
   "cell_type": "code",
   "execution_count": 31,
   "metadata": {},
   "outputs": [
    {
     "name": "stdout",
     "output_type": "stream",
     "text": [
      "   0       1   2      3\n",
      "0  1   Fares  32   True\n",
      "1  2   Elena  23  False\n",
      "2  3  Steven  40   True\n"
     ]
    }
   ],
   "source": [
    "df = pd.DataFrame([\n",
    "['1', 'Fares', 32, True],\n",
    "['2', 'Elena', 23, False],\n",
    "['3', 'Steven', 40, True]])\n",
    "print(df)"
   ]
  },
  {
   "cell_type": "code",
   "execution_count": 32,
   "metadata": {},
   "outputs": [
    {
     "name": "stdout",
     "output_type": "stream",
     "text": [
      "  id    name  age  decision\n",
      "0  1   Fares   32      True\n",
      "1  2   Elena   23     False\n",
      "2  3  Steven   40      True\n"
     ]
    }
   ],
   "source": [
    "df.columns = ['id','name','age','decision']\n",
    "print(df)"
   ]
  },
  {
   "cell_type": "code",
   "execution_count": 43,
   "metadata": {},
   "outputs": [
    {
     "data": {
      "text/html": [
       "<div>\n",
       "<style scoped>\n",
       "    .dataframe tbody tr th:only-of-type {\n",
       "        vertical-align: middle;\n",
       "    }\n",
       "\n",
       "    .dataframe tbody tr th {\n",
       "        vertical-align: top;\n",
       "    }\n",
       "\n",
       "    .dataframe thead th {\n",
       "        text-align: right;\n",
       "    }\n",
       "</style>\n",
       "<table border=\"1\" class=\"dataframe\">\n",
       "  <thead>\n",
       "    <tr style=\"text-align: right;\">\n",
       "      <th></th>\n",
       "      <th>name</th>\n",
       "      <th>age</th>\n",
       "    </tr>\n",
       "  </thead>\n",
       "  <tbody>\n",
       "    <tr>\n",
       "      <th>0</th>\n",
       "      <td>Fares</td>\n",
       "      <td>32</td>\n",
       "    </tr>\n",
       "    <tr>\n",
       "      <th>1</th>\n",
       "      <td>Elena</td>\n",
       "      <td>23</td>\n",
       "    </tr>\n",
       "    <tr>\n",
       "      <th>2</th>\n",
       "      <td>Steven</td>\n",
       "      <td>40</td>\n",
       "    </tr>\n",
       "  </tbody>\n",
       "</table>\n",
       "</div>"
      ],
      "text/plain": [
       "     name  age\n",
       "0   Fares   32\n",
       "1   Elena   23\n",
       "2  Steven   40"
      ]
     },
     "execution_count": 43,
     "metadata": {},
     "output_type": "execute_result"
    }
   ],
   "source": [
    "df[['name','age']]"
   ]
  },
  {
   "cell_type": "code",
   "execution_count": 44,
   "metadata": {},
   "outputs": [
    {
     "data": {
      "text/plain": [
       "0     True\n",
       "1    False\n",
       "2     True\n",
       "Name: decision, dtype: bool"
      ]
     },
     "execution_count": 44,
     "metadata": {},
     "output_type": "execute_result"
    }
   ],
   "source": [
    "df.iloc[:,3]"
   ]
  },
  {
   "cell_type": "code",
   "execution_count": 45,
   "metadata": {},
   "outputs": [
    {
     "data": {
      "text/html": [
       "<div>\n",
       "<style scoped>\n",
       "    .dataframe tbody tr th:only-of-type {\n",
       "        vertical-align: middle;\n",
       "    }\n",
       "\n",
       "    .dataframe tbody tr th {\n",
       "        vertical-align: top;\n",
       "    }\n",
       "\n",
       "    .dataframe thead th {\n",
       "        text-align: right;\n",
       "    }\n",
       "</style>\n",
       "<table border=\"1\" class=\"dataframe\">\n",
       "  <thead>\n",
       "    <tr style=\"text-align: right;\">\n",
       "      <th></th>\n",
       "      <th>id</th>\n",
       "      <th>name</th>\n",
       "      <th>age</th>\n",
       "      <th>decision</th>\n",
       "    </tr>\n",
       "  </thead>\n",
       "  <tbody>\n",
       "    <tr>\n",
       "      <th>1</th>\n",
       "      <td>2</td>\n",
       "      <td>Elena</td>\n",
       "      <td>23</td>\n",
       "      <td>False</td>\n",
       "    </tr>\n",
       "    <tr>\n",
       "      <th>2</th>\n",
       "      <td>3</td>\n",
       "      <td>Steven</td>\n",
       "      <td>40</td>\n",
       "      <td>True</td>\n",
       "    </tr>\n",
       "  </tbody>\n",
       "</table>\n",
       "</div>"
      ],
      "text/plain": [
       "  id    name  age  decision\n",
       "1  2   Elena   23     False\n",
       "2  3  Steven   40      True"
      ]
     },
     "execution_count": 45,
     "metadata": {},
     "output_type": "execute_result"
    }
   ],
   "source": [
    "df.iloc[1:3,:]"
   ]
  },
  {
   "cell_type": "code",
   "execution_count": 46,
   "metadata": {},
   "outputs": [
    {
     "data": {
      "text/html": [
       "<div>\n",
       "<style scoped>\n",
       "    .dataframe tbody tr th:only-of-type {\n",
       "        vertical-align: middle;\n",
       "    }\n",
       "\n",
       "    .dataframe tbody tr th {\n",
       "        vertical-align: top;\n",
       "    }\n",
       "\n",
       "    .dataframe thead th {\n",
       "        text-align: right;\n",
       "    }\n",
       "</style>\n",
       "<table border=\"1\" class=\"dataframe\">\n",
       "  <thead>\n",
       "    <tr style=\"text-align: right;\">\n",
       "      <th></th>\n",
       "      <th>id</th>\n",
       "      <th>name</th>\n",
       "      <th>age</th>\n",
       "      <th>decision</th>\n",
       "    </tr>\n",
       "  </thead>\n",
       "  <tbody>\n",
       "    <tr>\n",
       "      <th>0</th>\n",
       "      <td>1</td>\n",
       "      <td>Fares</td>\n",
       "      <td>32</td>\n",
       "      <td>True</td>\n",
       "    </tr>\n",
       "    <tr>\n",
       "      <th>2</th>\n",
       "      <td>3</td>\n",
       "      <td>Steven</td>\n",
       "      <td>40</td>\n",
       "      <td>True</td>\n",
       "    </tr>\n",
       "  </tbody>\n",
       "</table>\n",
       "</div>"
      ],
      "text/plain": [
       "  id    name  age  decision\n",
       "0  1   Fares   32      True\n",
       "2  3  Steven   40      True"
      ]
     },
     "execution_count": 46,
     "metadata": {},
     "output_type": "execute_result"
    }
   ],
   "source": [
    "df[df.age>30]"
   ]
  },
  {
   "cell_type": "code",
   "execution_count": 47,
   "metadata": {},
   "outputs": [
    {
     "data": {
      "text/html": [
       "<div>\n",
       "<style scoped>\n",
       "    .dataframe tbody tr th:only-of-type {\n",
       "        vertical-align: middle;\n",
       "    }\n",
       "\n",
       "    .dataframe tbody tr th {\n",
       "        vertical-align: top;\n",
       "    }\n",
       "\n",
       "    .dataframe thead th {\n",
       "        text-align: right;\n",
       "    }\n",
       "</style>\n",
       "<table border=\"1\" class=\"dataframe\">\n",
       "  <thead>\n",
       "    <tr style=\"text-align: right;\">\n",
       "      <th></th>\n",
       "      <th>id</th>\n",
       "      <th>name</th>\n",
       "      <th>age</th>\n",
       "      <th>decision</th>\n",
       "    </tr>\n",
       "  </thead>\n",
       "  <tbody>\n",
       "    <tr>\n",
       "      <th>0</th>\n",
       "      <td>1</td>\n",
       "      <td>Fares</td>\n",
       "      <td>32</td>\n",
       "      <td>True</td>\n",
       "    </tr>\n",
       "  </tbody>\n",
       "</table>\n",
       "</div>"
      ],
      "text/plain": [
       "  id   name  age  decision\n",
       "0  1  Fares   32      True"
      ]
     },
     "execution_count": 47,
     "metadata": {},
     "output_type": "execute_result"
    }
   ],
   "source": [
    "df[(df.age<35)&(df.decision==True)]"
   ]
  },
  {
   "cell_type": "code",
   "execution_count": 53,
   "metadata": {},
   "outputs": [
    {
     "name": "stdout",
     "output_type": "stream",
     "text": [
      "  No             Prodi  Mahasiswa  Lakilaki  Perempuan\n",
      "0  1       Informatika         50        30         20\n",
      "1  2  Sistem Informasi         55        30         25\n",
      "2  3      Teknik Sipil         40        30         10\n"
     ]
    }
   ],
   "source": [
    "mhs = pd.DataFrame([\n",
    "['1', 'Informatika', 50, 30, 20],\n",
    "['2', 'Sistem Informasi', 55, 30, 25],\n",
    "['3', 'Teknik Sipil', 40, 30, 10]])\n",
    "mhs.columns = ['No','Prodi','Mahasiswa','Lakilaki','Perempuan']\n",
    "print(mhs)"
   ]
  },
  {
   "cell_type": "code",
   "execution_count": 33,
   "metadata": {},
   "outputs": [
    {
     "name": "stdout",
     "output_type": "stream",
     "text": [
      "[[11 12 13]\n",
      " [21 22 23]\n",
      " [31 32 33]]\n",
      "<class 'numpy.ndarray'>\n"
     ]
    }
   ],
   "source": [
    "myMatrix = np.array([[11, 12, 13], [21, 22, 23], [31, 32, 33]])\n",
    "print(myMatrix)\n",
    "print(type(myMatrix))"
   ]
  },
  {
   "cell_type": "code",
   "execution_count": 34,
   "metadata": {},
   "outputs": [
    {
     "name": "stdout",
     "output_type": "stream",
     "text": [
      "[[ 100  200  300]\n",
      " [ 700  600  500]\n",
      " [ 900 1000  800]]\n"
     ]
    }
   ],
   "source": [
    "Matrix = np.array([[100, 200, 300], [700, 600, 500], [900, 1000, 800]])\n",
    "print(Matrix)"
   ]
  },
  {
   "cell_type": "code",
   "execution_count": 56,
   "metadata": {},
   "outputs": [
    {
     "name": "stdout",
     "output_type": "stream",
     "text": [
      "[22, 33, 44, 55]\n",
      "<class 'list'>\n"
     ]
    }
   ],
   "source": [
    "myVector = [22,33,44,55]\n",
    "print(myVector)\n",
    "print(type(myVector))"
   ]
  },
  {
   "cell_type": "code",
   "execution_count": 57,
   "metadata": {},
   "outputs": [
    {
     "name": "stdout",
     "output_type": "stream",
     "text": [
      "[22 33 44 55]\n",
      "<class 'numpy.ndarray'>\n"
     ]
    }
   ],
   "source": [
    "myVector = np.array([22,33,44,55])\n",
    "print(myVector)\n",
    "print(type(myVector))"
   ]
  },
  {
   "cell_type": "code",
   "execution_count": 35,
   "metadata": {},
   "outputs": [],
   "source": [
    "class Stack:\n",
    "  def __init__(self):\n",
    "    self.items = []\n",
    "  def isEmpty(self):\n",
    "    return self.items == []\n",
    "  def push(self, item):\n",
    "    self.items.append(item)\n",
    "  def pop(self):\n",
    "    return self.items.pop()\n",
    "  def peek(self):\n",
    "    return self.items[len(self.items)-I]\n",
    "  def size(self):\n",
    "    return len(self.items)"
   ]
  },
  {
   "cell_type": "code",
   "execution_count": 36,
   "metadata": {},
   "outputs": [
    {
     "name": "stdout",
     "output_type": "stream",
     "text": [
      "Yellow\n",
      "False\n"
     ]
    }
   ],
   "source": [
    "stack=Stack()\n",
    "stack.push('Red')\n",
    "stack.push('Green')\n",
    "stack.push(\"Blue\")\n",
    "stack.push(\"Yellow\")\n",
    "\n",
    "print(stack.pop())\n",
    "\n",
    "print(stack.isEmpty())"
   ]
  },
  {
   "cell_type": "code",
   "execution_count": 37,
   "metadata": {},
   "outputs": [],
   "source": [
    "class Queue(object):\n",
    "  def __init__(self):\n",
    "    self.items = []\n",
    "  def isEmpty(self):\n",
    "    return self.items == []\n",
    "  def enqueue(self, item):\n",
    "    self.items.insert(0,item)\n",
    "  def dequeue(self):\n",
    "    return self.items.pop()\n",
    "  def size(self):\n",
    "    return len(self.items)"
   ]
  },
  {
   "cell_type": "code",
   "execution_count": 38,
   "metadata": {},
   "outputs": [
    {
     "name": "stdout",
     "output_type": "stream",
     "text": [
      "4\n"
     ]
    }
   ],
   "source": [
    "queue=Queue()\n",
    "queue.enqueue('Red')\n",
    "queue.enqueue('Green')\n",
    "queue.enqueue('Blue')\n",
    "queue.enqueue('Yellow')\n",
    "print(queue.size())"
   ]
  },
  {
   "cell_type": "code",
   "execution_count": 39,
   "metadata": {},
   "outputs": [
    {
     "name": "stdout",
     "output_type": "stream",
     "text": [
      "Red\n",
      "Green\n"
     ]
    }
   ],
   "source": [
    "print(queue.dequeue())\n",
    "print(queue.dequeue())"
   ]
  }
 ],
 "metadata": {
  "kernelspec": {
   "display_name": "Python 3.10.7 64-bit",
   "language": "python",
   "name": "python3"
  },
  "language_info": {
   "codemirror_mode": {
    "name": "ipython",
    "version": 3
   },
   "file_extension": ".py",
   "mimetype": "text/x-python",
   "name": "python",
   "nbconvert_exporter": "python",
   "pygments_lexer": "ipython3",
   "version": "3.10.7"
  },
  "orig_nbformat": 4,
  "vscode": {
   "interpreter": {
    "hash": "90a16ab0e847dc995a7d5921479f9b649f6b79cba0198119756b7f11ddea4121"
   }
  }
 },
 "nbformat": 4,
 "nbformat_minor": 2
}
