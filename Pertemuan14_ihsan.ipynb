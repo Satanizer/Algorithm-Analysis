{
  "nbformat": 4,
  "nbformat_minor": 0,
  "metadata": {
    "colab": {
      "provenance": []
    },
    "kernelspec": {
      "name": "python3",
      "display_name": "Python 3"
    },
    "language_info": {
      "name": "python"
    }
  },
  "cells": [
    {
      "cell_type": "code",
      "execution_count": 35,
      "metadata": {
        "id": "VpXzO1Jk7_lV"
      },
      "outputs": [],
      "source": [
        "import networkx as nx\n",
        "import matplotlib.pyplot as plt"
      ]
    },
    {
      "cell_type": "code",
      "source": [
        "vertices = range(1,10)\n",
        "edges = [(7,2), (2,3), (7,4), (4,5), (7,3), (7,5),(1,6),(1,7),(2,8),(2,9)]"
      ],
      "metadata": {
        "id": "dIs5HQVv8P5J"
      },
      "execution_count": 36,
      "outputs": []
    },
    {
      "cell_type": "code",
      "source": [
        "G = nx.Graph()"
      ],
      "metadata": {
        "id": "Bj0b5tw48q0N"
      },
      "execution_count": 37,
      "outputs": []
    },
    {
      "cell_type": "code",
      "source": [
        "G.add_nodes_from(vertices)\n",
        "G.add_edges_from(edges)\n",
        "pos = nx.spring_layout(G)"
      ],
      "metadata": {
        "id": "pN8XVikx8uB9"
      },
      "execution_count": 38,
      "outputs": []
    },
    {
      "cell_type": "code",
      "source": [
        "nx.draw_networkx_nodes(G,pos,\n",
        "                       nodelist=[1,4,3,8,9],\n",
        "                       node_color='g',\n",
        "                       node_size=1300)"
      ],
      "metadata": {
        "colab": {
          "base_uri": "https://localhost:8080/",
          "height": 265
        },
        "id": "PZ14Tlqy86RA",
        "outputId": "d2441f69-dfb5-4fd1-cdfa-df77e6d6d3ff"
      },
      "execution_count": 40,
      "outputs": [
        {
          "output_type": "execute_result",
          "data": {
            "text/plain": [
              "<matplotlib.collections.PathCollection at 0x7fc8b83b09d0>"
            ]
          },
          "metadata": {},
          "execution_count": 40
        },
        {
          "output_type": "display_data",
          "data": {
            "text/plain": [
              "<Figure size 432x288 with 1 Axes>"
            ],
            "image/png": "[encoded data removed]"
          },
          "metadata": {}
        }
      ]
    },
    {
      "cell_type": "code",
      "source": [
        "nx.draw_networkx_nodes(G,pos,\n",
        "                       nodelist=[2,5,6,7],\n",
        "                       node_color='r',\n",
        "                       node_size=1300)"
      ],
      "metadata": {
        "colab": {
          "base_uri": "https://localhost:8080/",
          "height": 265
        },
        "id": "fOQSgKVs9hDL",
        "outputId": "9e21b7f6-fa61-4c48-c28e-8d4da6ed8df8"
      },
      "execution_count": 41,
      "outputs": [
        {
          "output_type": "execute_result",
          "data": {
            "text/plain": [
              "<matplotlib.collections.PathCollection at 0x7fc8b834c510>"
            ]
          },
          "metadata": {},
          "execution_count": 41
        },
        {
          "output_type": "display_data",
          "data": {
            "text/plain": [
              "<Figure size 432x288 with 1 Axes>"
            ],
            "image/png": "[encoded data removed]"
          },
          "metadata": {}
        }
      ]
    },
    {
      "cell_type": "code",
      "source": [
        "nx.draw_networkx_edges(G,pos,edges,width=3,alpha=0.5,edge_color='b')\n",
        "labels={}\n",
        "labels[1]=r'1 NF'\n",
        "labels[2]=r'2 F'\n",
        "labels[3]=r'3 NF'\n",
        "labels[4]=r'4 NF'\n",
        "labels[5]=r'5 F'\n",
        "labels[6]=r'6 F'\n",
        "labels[7]=r'7 F'\n",
        "labels[8]=r'8 NF'\n",
        "labels[9]=r'9 NF'\n",
        "nx.draw_networkx_labels(G,pos,labels,font_size=16)"
      ],
      "metadata": {
        "colab": {
          "base_uri": "https://localhost:8080/",
          "height": 404
        },
        "id": "b2Pk_Q1v-3-e",
        "outputId": "cf7cb0f5-0a89-444a-d22d-49172867230a"
      },
      "execution_count": 39,
      "outputs": [
        {
          "output_type": "execute_result",
          "data": {
            "text/plain": [
              "{1: Text(0.5816593413212605, -0.07072629431740896, '1 NF'),\n",
              " 2: Text(-0.34652419660880895, 0.27056414199741075, '2 F'),\n",
              " 3: Text(-0.27504668024117784, -0.023160318135675876, '3 NF'),\n",
              " 4: Text(0.20101090242499786, -0.5398461073594798, '4 NF'),\n",
              " 5: Text(-0.04662424774655305, -0.564187127505193, '5 F'),\n",
              " 6: Text(1.0, -0.02265710870556788, '6 F'),\n",
              " 7: Text(0.05345381006122428, -0.1507024978109562, '7 F'),\n",
              " 8: Text(-0.4019313756309903, 0.6993884093250796, '8 NF'),\n",
              " 9: Text(-0.7659975535799525, 0.4013269025117918, '9 NF')}"
            ]
          },
          "metadata": {},
          "execution_count": 39
        },
        {
          "output_type": "display_data",
          "data": {
            "text/plain": [
              "<Figure size 432x288 with 1 Axes>"
            ],
            "image/png": "[encoded data removed]"
          },
          "metadata": {}
        }
      ]
    },
    {
      "cell_type": "code",
      "source": [],
      "metadata": {
        "id": "Uz4lYiWdAO_r"
      },
      "execution_count": null,
      "outputs": []
    }
  ]
}